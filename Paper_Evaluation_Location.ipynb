{
  "nbformat": 4,
  "nbformat_minor": 0,
  "metadata": {
    "colab": {
      "name": "Paper Evaluation Location.ipynb",
      "provenance": [],
      "collapsed_sections": [],
      "toc_visible": true,
      "machine_shape": "hm"
    },
    "kernelspec": {
      "name": "python3",
      "display_name": "Python 3"
    },
    "accelerator": "GPU"
  },
  "cells": [
    {
      "cell_type": "code",
      "metadata": {
        "colab": {
          "base_uri": "https://localhost:8080/",
          "height": 1000
        },
        "id": "Q9Jj5cr7wM4w",
        "outputId": "339f42dc-292e-4dd5-ae4b-2b527e20c55b"
      },
      "source": [
        "!pip install spleeter-gpu "
      ],
      "execution_count": 3,
      "outputs": [
        {
          "output_type": "stream",
          "text": [
            "Collecting spleeter-gpu\n",
            "  Downloading https://files.pythonhosted.org/packages/16/54/61711816f77cad53d19f304b1a6f85f1f2c19af8d87dd864da5d73cba961/spleeter-gpu-2.0.2.tar.gz\n",
            "Collecting ffmpeg-python==0.2.0\n",
            "  Downloading https://files.pythonhosted.org/packages/d7/0c/56be52741f75bad4dc6555991fabd2e07b432d333da82c11ad701123888a/ffmpeg_python-0.2.0-py3-none-any.whl\n",
            "Collecting norbert==0.2.1\n",
            "  Downloading https://files.pythonhosted.org/packages/22/85/1e4f09c84d28b5541a4a8eece320902c4d2fa264dfe51f779548396f0fea/norbert-0.2.1-py2.py3-none-any.whl\n",
            "Requirement already satisfied: numpy<1.19.0,>=1.16.0 in /usr/local/lib/python3.6/dist-packages (from spleeter-gpu) (1.18.5)\n",
            "Collecting pandas==1.1.2\n",
            "\u001b[?25l  Downloading https://files.pythonhosted.org/packages/1c/11/e1f53db0614f2721027aab297c8afd2eaf58d33d566441a97ea454541c5e/pandas-1.1.2-cp36-cp36m-manylinux1_x86_64.whl (10.5MB)\n",
            "\u001b[K     |████████████████████████████████| 10.5MB 13.5MB/s \n",
            "\u001b[?25hRequirement already satisfied: requests in /usr/local/lib/python3.6/dist-packages (from spleeter-gpu) (2.23.0)\n",
            "Requirement already satisfied: scipy==1.4.1 in /usr/local/lib/python3.6/dist-packages (from spleeter-gpu) (1.4.1)\n",
            "Requirement already satisfied: setuptools>=41.0.0 in /usr/local/lib/python3.6/dist-packages (from spleeter-gpu) (50.3.2)\n",
            "Collecting librosa==0.8.0\n",
            "\u001b[?25l  Downloading https://files.pythonhosted.org/packages/26/4d/c22d8ca74ca2c13cd4ac430fa353954886104321877b65fa871939e78591/librosa-0.8.0.tar.gz (183kB)\n",
            "\u001b[K     |████████████████████████████████| 184kB 69.5MB/s \n",
            "\u001b[?25hCollecting tensorflow-gpu==2.3.0\n",
            "\u001b[?25l  Downloading https://files.pythonhosted.org/packages/0f/11/763f55d3d15efd778ef24453f126e6c33635680e5a2bb346da3fab5997cb/tensorflow_gpu-2.3.0-cp36-cp36m-manylinux2010_x86_64.whl (320.4MB)\n",
            "\u001b[K     |████████████████████████████████| 320.4MB 49kB/s \n",
            "\u001b[?25hRequirement already satisfied: importlib_resources in /usr/local/lib/python3.6/dist-packages (from spleeter-gpu) (3.3.0)\n",
            "Requirement already satisfied: future in /usr/local/lib/python3.6/dist-packages (from ffmpeg-python==0.2.0->spleeter-gpu) (0.16.0)\n",
            "Requirement already satisfied: python-dateutil>=2.7.3 in /usr/local/lib/python3.6/dist-packages (from pandas==1.1.2->spleeter-gpu) (2.8.1)\n",
            "Requirement already satisfied: pytz>=2017.2 in /usr/local/lib/python3.6/dist-packages (from pandas==1.1.2->spleeter-gpu) (2018.9)\n",
            "Requirement already satisfied: idna<3,>=2.5 in /usr/local/lib/python3.6/dist-packages (from requests->spleeter-gpu) (2.10)\n",
            "Requirement already satisfied: certifi>=2017.4.17 in /usr/local/lib/python3.6/dist-packages (from requests->spleeter-gpu) (2020.12.5)\n",
            "Requirement already satisfied: chardet<4,>=3.0.2 in /usr/local/lib/python3.6/dist-packages (from requests->spleeter-gpu) (3.0.4)\n",
            "Requirement already satisfied: urllib3!=1.25.0,!=1.25.1,<1.26,>=1.21.1 in /usr/local/lib/python3.6/dist-packages (from requests->spleeter-gpu) (1.24.3)\n",
            "Requirement already satisfied: audioread>=2.0.0 in /usr/local/lib/python3.6/dist-packages (from librosa==0.8.0->spleeter-gpu) (2.1.9)\n",
            "Requirement already satisfied: scikit-learn!=0.19.0,>=0.14.0 in /usr/local/lib/python3.6/dist-packages (from librosa==0.8.0->spleeter-gpu) (0.22.2.post1)\n",
            "Requirement already satisfied: joblib>=0.14 in /usr/local/lib/python3.6/dist-packages (from librosa==0.8.0->spleeter-gpu) (0.17.0)\n",
            "Requirement already satisfied: decorator>=3.0.0 in /usr/local/lib/python3.6/dist-packages (from librosa==0.8.0->spleeter-gpu) (4.4.2)\n",
            "Requirement already satisfied: resampy>=0.2.2 in /usr/local/lib/python3.6/dist-packages (from librosa==0.8.0->spleeter-gpu) (0.2.2)\n",
            "Requirement already satisfied: numba>=0.43.0 in /usr/local/lib/python3.6/dist-packages (from librosa==0.8.0->spleeter-gpu) (0.48.0)\n",
            "Collecting soundfile>=0.9.0\n",
            "  Downloading https://files.pythonhosted.org/packages/eb/f2/3cbbbf3b96fb9fa91582c438b574cff3f45b29c772f94c400e2c99ef5db9/SoundFile-0.10.3.post1-py2.py3-none-any.whl\n",
            "Collecting pooch>=1.0\n",
            "\u001b[?25l  Downloading https://files.pythonhosted.org/packages/40/b9/9876662636ba451d4406543047c0b45ca5b4e830f931308c8274dad1db43/pooch-1.3.0-py3-none-any.whl (51kB)\n",
            "\u001b[K     |████████████████████████████████| 61kB 10.7MB/s \n",
            "\u001b[?25hRequirement already satisfied: absl-py>=0.7.0 in /usr/local/lib/python3.6/dist-packages (from tensorflow-gpu==2.3.0->spleeter-gpu) (0.10.0)\n",
            "Requirement already satisfied: tensorflow-estimator<2.4.0,>=2.3.0 in /usr/local/lib/python3.6/dist-packages (from tensorflow-gpu==2.3.0->spleeter-gpu) (2.3.0)\n",
            "Requirement already satisfied: tensorboard<3,>=2.3.0 in /usr/local/lib/python3.6/dist-packages (from tensorflow-gpu==2.3.0->spleeter-gpu) (2.3.0)\n",
            "Requirement already satisfied: grpcio>=1.8.6 in /usr/local/lib/python3.6/dist-packages (from tensorflow-gpu==2.3.0->spleeter-gpu) (1.34.0)\n",
            "Requirement already satisfied: wheel>=0.26 in /usr/local/lib/python3.6/dist-packages (from tensorflow-gpu==2.3.0->spleeter-gpu) (0.36.1)\n",
            "Requirement already satisfied: h5py<2.11.0,>=2.10.0 in /usr/local/lib/python3.6/dist-packages (from tensorflow-gpu==2.3.0->spleeter-gpu) (2.10.0)\n",
            "Requirement already satisfied: google-pasta>=0.1.8 in /usr/local/lib/python3.6/dist-packages (from tensorflow-gpu==2.3.0->spleeter-gpu) (0.2.0)\n",
            "Requirement already satisfied: termcolor>=1.1.0 in /usr/local/lib/python3.6/dist-packages (from tensorflow-gpu==2.3.0->spleeter-gpu) (1.1.0)\n",
            "Requirement already satisfied: gast==0.3.3 in /usr/local/lib/python3.6/dist-packages (from tensorflow-gpu==2.3.0->spleeter-gpu) (0.3.3)\n",
            "Requirement already satisfied: wrapt>=1.11.1 in /usr/local/lib/python3.6/dist-packages (from tensorflow-gpu==2.3.0->spleeter-gpu) (1.12.1)\n",
            "Requirement already satisfied: six>=1.12.0 in /usr/local/lib/python3.6/dist-packages (from tensorflow-gpu==2.3.0->spleeter-gpu) (1.15.0)\n",
            "Requirement already satisfied: opt-einsum>=2.3.2 in /usr/local/lib/python3.6/dist-packages (from tensorflow-gpu==2.3.0->spleeter-gpu) (3.3.0)\n",
            "Requirement already satisfied: astunparse==1.6.3 in /usr/local/lib/python3.6/dist-packages (from tensorflow-gpu==2.3.0->spleeter-gpu) (1.6.3)\n",
            "Requirement already satisfied: protobuf>=3.9.2 in /usr/local/lib/python3.6/dist-packages (from tensorflow-gpu==2.3.0->spleeter-gpu) (3.12.4)\n",
            "Requirement already satisfied: keras-preprocessing<1.2,>=1.1.1 in /usr/local/lib/python3.6/dist-packages (from tensorflow-gpu==2.3.0->spleeter-gpu) (1.1.2)\n",
            "Requirement already satisfied: zipp>=0.4; python_version < \"3.8\" in /usr/local/lib/python3.6/dist-packages (from importlib_resources->spleeter-gpu) (3.4.0)\n",
            "Requirement already satisfied: llvmlite<0.32.0,>=0.31.0dev0 in /usr/local/lib/python3.6/dist-packages (from numba>=0.43.0->librosa==0.8.0->spleeter-gpu) (0.31.0)\n",
            "Requirement already satisfied: cffi>=1.0 in /usr/local/lib/python3.6/dist-packages (from soundfile>=0.9.0->librosa==0.8.0->spleeter-gpu) (1.14.4)\n",
            "Collecting appdirs\n",
            "  Downloading https://files.pythonhosted.org/packages/3b/00/2344469e2084fb287c2e0b57b72910309874c3245463acd6cf5e3db69324/appdirs-1.4.4-py2.py3-none-any.whl\n",
            "Requirement already satisfied: packaging in /usr/local/lib/python3.6/dist-packages (from pooch>=1.0->librosa==0.8.0->spleeter-gpu) (20.7)\n",
            "Requirement already satisfied: google-auth-oauthlib<0.5,>=0.4.1 in /usr/local/lib/python3.6/dist-packages (from tensorboard<3,>=2.3.0->tensorflow-gpu==2.3.0->spleeter-gpu) (0.4.2)\n",
            "Requirement already satisfied: werkzeug>=0.11.15 in /usr/local/lib/python3.6/dist-packages (from tensorboard<3,>=2.3.0->tensorflow-gpu==2.3.0->spleeter-gpu) (1.0.1)\n",
            "Requirement already satisfied: tensorboard-plugin-wit>=1.6.0 in /usr/local/lib/python3.6/dist-packages (from tensorboard<3,>=2.3.0->tensorflow-gpu==2.3.0->spleeter-gpu) (1.7.0)\n",
            "Requirement already satisfied: markdown>=2.6.8 in /usr/local/lib/python3.6/dist-packages (from tensorboard<3,>=2.3.0->tensorflow-gpu==2.3.0->spleeter-gpu) (3.3.3)\n",
            "Requirement already satisfied: google-auth<2,>=1.6.3 in /usr/local/lib/python3.6/dist-packages (from tensorboard<3,>=2.3.0->tensorflow-gpu==2.3.0->spleeter-gpu) (1.17.2)\n",
            "Requirement already satisfied: pycparser in /usr/local/lib/python3.6/dist-packages (from cffi>=1.0->soundfile>=0.9.0->librosa==0.8.0->spleeter-gpu) (2.20)\n",
            "Requirement already satisfied: pyparsing>=2.0.2 in /usr/local/lib/python3.6/dist-packages (from packaging->pooch>=1.0->librosa==0.8.0->spleeter-gpu) (2.4.7)\n",
            "Requirement already satisfied: requests-oauthlib>=0.7.0 in /usr/local/lib/python3.6/dist-packages (from google-auth-oauthlib<0.5,>=0.4.1->tensorboard<3,>=2.3.0->tensorflow-gpu==2.3.0->spleeter-gpu) (1.3.0)\n",
            "Requirement already satisfied: importlib-metadata; python_version < \"3.8\" in /usr/local/lib/python3.6/dist-packages (from markdown>=2.6.8->tensorboard<3,>=2.3.0->tensorflow-gpu==2.3.0->spleeter-gpu) (3.1.1)\n",
            "Requirement already satisfied: pyasn1-modules>=0.2.1 in /usr/local/lib/python3.6/dist-packages (from google-auth<2,>=1.6.3->tensorboard<3,>=2.3.0->tensorflow-gpu==2.3.0->spleeter-gpu) (0.2.8)\n",
            "Requirement already satisfied: cachetools<5.0,>=2.0.0 in /usr/local/lib/python3.6/dist-packages (from google-auth<2,>=1.6.3->tensorboard<3,>=2.3.0->tensorflow-gpu==2.3.0->spleeter-gpu) (4.1.1)\n",
            "Requirement already satisfied: rsa<5,>=3.1.4; python_version >= \"3\" in /usr/local/lib/python3.6/dist-packages (from google-auth<2,>=1.6.3->tensorboard<3,>=2.3.0->tensorflow-gpu==2.3.0->spleeter-gpu) (4.6)\n",
            "Requirement already satisfied: oauthlib>=3.0.0 in /usr/local/lib/python3.6/dist-packages (from requests-oauthlib>=0.7.0->google-auth-oauthlib<0.5,>=0.4.1->tensorboard<3,>=2.3.0->tensorflow-gpu==2.3.0->spleeter-gpu) (3.1.0)\n",
            "Requirement already satisfied: pyasn1<0.5.0,>=0.4.6 in /usr/local/lib/python3.6/dist-packages (from pyasn1-modules>=0.2.1->google-auth<2,>=1.6.3->tensorboard<3,>=2.3.0->tensorflow-gpu==2.3.0->spleeter-gpu) (0.4.8)\n",
            "Building wheels for collected packages: spleeter-gpu, librosa\n",
            "  Building wheel for spleeter-gpu (setup.py) ... \u001b[?25l\u001b[?25hdone\n",
            "  Created wheel for spleeter-gpu: filename=spleeter_gpu-2.0.2-cp36-none-any.whl size=49748 sha256=0c5bff22e4ce2955bb9e8b296598fe76c5463639c5ec536a6acd9a51150c1ba0\n",
            "  Stored in directory: /root/.cache/pip/wheels/bb/e1/2a/6edae742c14eea79b65c33cfce92078a1cda58a7c0c16f208d\n",
            "  Building wheel for librosa (setup.py) ... \u001b[?25l\u001b[?25hdone\n",
            "  Created wheel for librosa: filename=librosa-0.8.0-cp36-none-any.whl size=201375 sha256=f56f951e840964388e59a575568e393842bffc0d723a4e8b442a5d53c033a80d\n",
            "  Stored in directory: /root/.cache/pip/wheels/ee/10/1e/382bb4369e189938d5c02e06d10c651817da8d485bfd1647c9\n",
            "Successfully built spleeter-gpu librosa\n",
            "Installing collected packages: ffmpeg-python, norbert, pandas, soundfile, appdirs, pooch, librosa, tensorflow-gpu, spleeter-gpu\n",
            "  Found existing installation: pandas 1.1.5\n",
            "    Uninstalling pandas-1.1.5:\n",
            "      Successfully uninstalled pandas-1.1.5\n",
            "  Found existing installation: librosa 0.6.3\n",
            "    Uninstalling librosa-0.6.3:\n",
            "      Successfully uninstalled librosa-0.6.3\n",
            "Successfully installed appdirs-1.4.4 ffmpeg-python-0.2.0 librosa-0.8.0 norbert-0.2.1 pandas-1.1.2 pooch-1.3.0 soundfile-0.10.3.post1 spleeter-gpu-2.0.2 tensorflow-gpu-2.3.0\n"
          ],
          "name": "stdout"
        },
        {
          "output_type": "display_data",
          "data": {
            "application/vnd.colab-display-data+json": {
              "pip_warning": {
                "packages": [
                  "librosa",
                  "pandas"
                ]
              }
            }
          },
          "metadata": {
            "tags": []
          }
        }
      ]
    },
    {
      "cell_type": "code",
      "metadata": {
        "colab": {
          "base_uri": "https://localhost:8080/"
        },
        "id": "UNvJDHSawet_",
        "outputId": "f15a97b8-9f13-4ca1-dead-caded778a0c0"
      },
      "source": [
        "!pip install pyroomacoustics youtube-dl soundfile\r\n"
      ],
      "execution_count": 26,
      "outputs": [
        {
          "output_type": "stream",
          "text": [
            "Requirement already satisfied: pyroomacoustics in /usr/local/lib/python3.6/dist-packages (0.4.2)\n",
            "Requirement already satisfied: youtube-dl in /usr/local/lib/python3.6/dist-packages (2020.12.12)\n",
            "Requirement already satisfied: soundfile in /usr/local/lib/python3.6/dist-packages (0.10.3.post1)\n",
            "Requirement already satisfied: scipy>=0.18.0 in /usr/local/lib/python3.6/dist-packages (from pyroomacoustics) (1.4.1)\n",
            "Requirement already satisfied: Cython in /usr/local/lib/python3.6/dist-packages (from pyroomacoustics) (0.29.21)\n",
            "Requirement already satisfied: numpy in /usr/local/lib/python3.6/dist-packages (from pyroomacoustics) (1.18.5)\n",
            "Requirement already satisfied: pybind11>=2.2 in /usr/local/lib/python3.6/dist-packages (from pyroomacoustics) (2.6.1)\n",
            "Requirement already satisfied: cffi>=1.0 in /usr/local/lib/python3.6/dist-packages (from soundfile) (1.14.4)\n",
            "Requirement already satisfied: pycparser in /usr/local/lib/python3.6/dist-packages (from cffi>=1.0->soundfile) (2.20)\n"
          ],
          "name": "stdout"
        }
      ]
    },
    {
      "cell_type": "code",
      "metadata": {
        "id": "LHRlxUM5wgOd"
      },
      "source": [
        "import numpy as np\r\n",
        "import librosa\r\n",
        "import librosa.display\r\n",
        "import matplotlib.pyplot as plt\r\n",
        "from scipy.io import wavfile\r\n",
        "from scipy.signal import fftconvolve\r\n",
        "import IPython\r\n",
        "import pyroomacoustics as pra\r\n",
        "from scipy import signal\r\n",
        "import soundfile as sf\r\n",
        "from scipy.io.wavfile import read\r\n",
        "from scipy.io.wavfile import write"
      ],
      "execution_count": 10,
      "outputs": []
    },
    {
      "cell_type": "markdown",
      "metadata": {
        "id": "RvJKW6H6w_a8"
      },
      "source": [
        "# **Setting Sound**"
      ]
    },
    {
      "cell_type": "code",
      "metadata": {
        "colab": {
          "base_uri": "https://localhost:8080/"
        },
        "id": "barSoBzYw10I",
        "outputId": "80e8ff5c-194f-47ea-bd42-a515fa20ee16"
      },
      "source": [
        "link = 'https://www.youtube.com/watch?v=eEQFgzF-qbQ&ab_channel=2Point9Records'\r\n",
        "!rm -rf song.wav\r\n",
        "!youtube-dl --extract-audio --audio-format wav --output \"song.wav\" $link\r\n",
        "!rm -rf /content/output/song\r\n",
        "!spleeter separate -i song.wav -p spleeter:4stems -o output"
      ],
      "execution_count": 3,
      "outputs": [
        {
          "output_type": "stream",
          "text": [
            "[youtube] eEQFgzF-qbQ: Downloading webpage\n",
            "[youtube] eEQFgzF-qbQ: Downloading js player 03226028\n",
            "[youtube] eEQFgzF-qbQ: Downloading js player 03226028\n",
            "[download] Destination: song.wav\n",
            "\u001b[K[download] 100% of 3.01MiB in 00:00\n",
            "[ffmpeg] Post-process file song.wav exists, skipping\n",
            "INFO:spleeter:Downloading model archive https://github.com/deezer/spleeter/releases/download/v1.4.0/4stems.tar.gz\n",
            "INFO:spleeter:Validating archive checksum\n",
            "INFO:spleeter:Extracting downloaded 4stems archive\n",
            "INFO:spleeter:4stems model file(s) extracted\n",
            "INFO:spleeter:File output/song/vocals.wav written succesfully\n",
            "INFO:spleeter:File output/song/drums.wav written succesfully\n",
            "INFO:spleeter:File output/song/bass.wav written succesfully\n",
            "INFO:spleeter:File output/song/other.wav written succesfully\n"
          ],
          "name": "stdout"
        }
      ]
    },
    {
      "cell_type": "code",
      "metadata": {
        "id": "GBansAafw9-a"
      },
      "source": [
        "# specify signal source\r\n",
        "fs1, signal1 = wavfile.read(\"/content/output/song/drums.wav\")\r\n",
        "fs2, signal2 = wavfile.read(\"/content/output/song/bass.wav\")\r\n",
        "fs3, signal3 = wavfile.read(\"/content/output/song/other.wav\")\r\n",
        "fs4, signal4 = wavfile.read(\"/content/output/song/vocals.wav\")\r\n",
        "\r\n",
        "# Convert to mono\r\n",
        "signal1 = signal1[:,0]\r\n",
        "signal2 = signal2[:,0]\r\n",
        "signal3 = signal3[:,0]\r\n",
        "signal4 = signal4[:,0]\r\n"
      ],
      "execution_count": 4,
      "outputs": []
    },
    {
      "cell_type": "code",
      "metadata": {
        "id": "MYU-O66E9CW3"
      },
      "source": [
        "!rm -rf experimental_Results/\r\n",
        "!mkdir experimental_Results"
      ],
      "execution_count": 184,
      "outputs": []
    },
    {
      "cell_type": "markdown",
      "metadata": {
        "id": "nz_GPuQ0wlQq"
      },
      "source": [
        "# 2D Room"
      ]
    },
    {
      "cell_type": "code",
      "metadata": {
        "id": "6zIKy8hOBNtV"
      },
      "source": [
        "# x=[0,2,7,9] \r\n",
        "# y=[9,9,9,9] \r\n",
        "# mic=[5,0]\r\n",
        "# r=10"
      ],
      "execution_count": 193,
      "outputs": []
    },
    {
      "cell_type": "code",
      "metadata": {
        "id": "b_QVqw7M82Cy"
      },
      "source": [
        "x=[0,2,7,9] \r\n",
        "y=[6,6,6,6] \r\n",
        "mic=[5,0]\r\n",
        "r=7"
      ],
      "execution_count": 203,
      "outputs": []
    },
    {
      "cell_type": "code",
      "metadata": {
        "id": "MN_pYZeUAl1A"
      },
      "source": [
        "# x=[0,2,7,9] \r\n",
        "# y=[3,3,3,3] \r\n",
        "# mic=[5,0]\r\n",
        "# r=4"
      ],
      "execution_count": 204,
      "outputs": []
    },
    {
      "cell_type": "code",
      "metadata": {
        "colab": {
          "base_uri": "https://localhost:8080/",
          "height": 269
        },
        "id": "uhirrORewi4C",
        "outputId": "400095e8-b2ef-4056-9e53-3899391a69c9"
      },
      "source": [
        "# add source to 2D room\r\n",
        "# [\"hard_surface\" \"brickwork\" \"reverb_chamber\" \"limestone_wall\"]\r\n",
        "\r\n",
        "m = pra.Material(energy_absorption=\"limestone_wall\")\r\n",
        "rt60_tgt = 0.3  # seconds  # The desired reverberation time and dimensions of the room in meter\r\n",
        "room_dim = [10, 10]\r\n",
        "# We invert Sabine's formula to obtain the parameters for the ISM simulator\r\n",
        "e_absorption, max_order = pra.inverse_sabine(rt60_tgt, room_dim)\r\n",
        "\r\n",
        "\r\n",
        "# Creating the Room\r\n",
        "room = pra.ShoeBox(\r\n",
        "     room_dim, fs=fs1, materials=pra.Material(e_absorption), max_order=max_order\r\n",
        ")\r\n",
        "\r\n",
        "# Add sources to the room\r\n",
        "# Right to Left\r\n",
        "\r\n",
        "room.add_source([x[0],y[0]], signal=signal1)\r\n",
        "room.add_source([x[1],y[1]], signal=signal2)\r\n",
        "room.add_source([x[2],y[2]], signal=signal3)\r\n",
        "room.add_source([x[3],y[3]], signal=signal4)\r\n",
        "\r\n",
        "R = pra.circular_2D_array(center=[mic[0],mic[1]], M=2, phi0=0, radius=0.1)\r\n",
        "room.add_microphone_array(pra.MicrophoneArray(R, room.fs))\r\n",
        "fig, ax = room.plot()\r\n",
        "room.simulate()"
      ],
      "execution_count": 205,
      "outputs": [
        {
          "output_type": "display_data",
          "data": {
            "image/png": "[encoded data removed]",
            "text/plain": [
              "<Figure size 432x288 with 1 Axes>"
            ]
          },
          "metadata": {
            "tags": [],
            "needs_background": "light"
          }
        }
      ]
    },
    {
      "cell_type": "code",
      "metadata": {
        "id": "bOzu9icezQRf"
      },
      "source": [
        "leftMic=room.mic_array.signals[0,:]\r\n",
        "k=np.array(leftMic)\r\n",
        "normalized_leftMic = np.array([(k / np.max(np.abs(k))) * 32767], np.int16)\r\n",
        "!rm -rf left.wav\r\n",
        "write(\"left.wav\", fs1, normalized_leftMic.T)\r\n",
        "# IPython.display.Audio(leftMic, rate=fs1)  # Play left channel"
      ],
      "execution_count": 206,
      "outputs": []
    },
    {
      "cell_type": "code",
      "metadata": {
        "id": "4rZXfCVy7Bl_"
      },
      "source": [
        "rightMic=room.mic_array.signals[1,:]\r\n",
        "k=np.array(rightMic)\r\n",
        "normalized_rightMic = np.array([(k / np.max(np.abs(k))) * 32767], np.int16)\r\n",
        "!rm -rf right.wav\r\n",
        "write(\"right.wav\", fs1, normalized_rightMic.T)\r\n",
        "# IPython.display.Audio(rightMic, rate=fs1)  # Play right channel"
      ],
      "execution_count": 207,
      "outputs": []
    },
    {
      "cell_type": "code",
      "metadata": {
        "colab": {
          "base_uri": "https://localhost:8080/"
        },
        "id": "H9Sy1m7-zPfT",
        "outputId": "0793e60b-ea11-4698-bb0c-eb21d2ee1e26"
      },
      "source": [
        "!rm -rf /content/output/right\r\n",
        "!spleeter separate -i right.wav -p spleeter:4stems -o output\r\n",
        "!rm -rf /content/output/left\r\n",
        "!spleeter separate -i left.wav -p spleeter:4stems -o output\r\n"
      ],
      "execution_count": 208,
      "outputs": [
        {
          "output_type": "stream",
          "text": [
            "INFO:spleeter:File output/right/vocals.wav written succesfully\n",
            "INFO:spleeter:File output/right/drums.wav written succesfully\n",
            "INFO:spleeter:File output/right/bass.wav written succesfully\n",
            "INFO:spleeter:File output/right/other.wav written succesfully\n",
            "INFO:spleeter:File output/left/vocals.wav written succesfully\n",
            "INFO:spleeter:File output/left/drums.wav written succesfully\n",
            "INFO:spleeter:File output/left/bass.wav written succesfully\n",
            "INFO:spleeter:File output/left/other.wav written succesfully\n"
          ],
          "name": "stdout"
        }
      ]
    },
    {
      "cell_type": "code",
      "metadata": {
        "colab": {
          "base_uri": "https://localhost:8080/"
        },
        "id": "hHbXHr5qzJC0",
        "outputId": "f8fd23e0-a6df-4e4b-8862-5255647d6419"
      },
      "source": [
        "def lag_finder(y1, y2, sr):\r\n",
        "    n = len(y1)\r\n",
        "\r\n",
        "    corr = signal.correlate(y2, y1, mode='same') / np.sqrt(signal.correlate(y1, y1, mode='same')[int(n/2)] * signal.correlate(y2, y2, mode='same')[int(n/2)])\r\n",
        "\r\n",
        "    delay_arr = np.linspace(-0.5*n/sr, 0.5*n/sr, n)\r\n",
        "    delay = delay_arr[np.argmax(corr)]\r\n",
        "    # print('y2 is ' + str(delay) + ' behind y1')\r\n",
        "\r\n",
        "    # plt.figure()\r\n",
        "    # plt.plot(delay_arr, corr)\r\n",
        "    # plt.title('Lag: ' + str(np.round(delay, 3)) + ' s')\r\n",
        "    # plt.xlabel('Lag')\r\n",
        "    # plt.ylabel('Correlation coeff')\r\n",
        "    # plt.show()\r\n",
        "    return delay\r\n",
        "\r\n",
        "\r\n",
        "def location(a,b):\r\n",
        "  position=[]\r\n",
        "  p = np.array(tuple(zip(a[:,0], b[:,0])))\r\n",
        "  c = 343.    # speed of sound\r\n",
        "  fs = 44100  # sampling frequency\r\n",
        "  nfft = 256  # FFT size\r\n",
        "\r\n",
        "\r\n",
        "  azimuth = np.array([61., 270.]) / 180. * np.pi\r\n",
        "  X = pra.transform.stft.analysis(p, nfft, nfft // 2)\r\n",
        "  X = X.transpose([2, 1, 0])\r\n",
        "  \r\n",
        "  doa = pra.doa.MUSIC(R, fs, nfft)\r\n",
        "  doa.locate_sources(X, freq_bins=np.arange(20, 40))\r\n",
        "  position.append(doa.grid.find_peaks(k=1)[0])\r\n",
        "  # doa.grid.plot(mark_peaks=1)\r\n",
        "\r\n",
        "  doa = pra.doa.SRP(R, fs, nfft)\r\n",
        "  doa.locate_sources(X, freq_bins=np.arange(20, 40))\r\n",
        "  position.append(doa.grid.find_peaks(k=1)[0])\r\n",
        "  # doa.grid.plot(mark_peaks=1)\r\n",
        "\r\n",
        "  doa = pra.doa.CSSM(R, fs, nfft)\r\n",
        "  doa.locate_sources(X, freq_bins=np.arange(20, 40))\r\n",
        "  position.append(doa.grid.find_peaks(k=1)[0])\r\n",
        "  # doa.grid.plot(mark_peaks=1)\r\n",
        "\r\n",
        "  doa = pra.doa.WAVES(R, fs, nfft)\r\n",
        "  doa.locate_sources(X, freq_bins=np.arange(20, 40))\r\n",
        "  position.append(doa.grid.find_peaks(k=1)[0])\r\n",
        "  # doa.grid.plot(mark_peaks=1)\r\n",
        "\r\n",
        "  doa = pra.doa.TOPS(R, fs, nfft)\r\n",
        "  doa.locate_sources(X, freq_bins=np.arange(20, 40))\r\n",
        "  position.append(doa.grid.find_peaks(k=1)[0])\r\n",
        "  # doa.grid.plot(mark_peaks=1)\r\n",
        "\r\n",
        "  return position\r\n",
        "\r\n",
        "\r\n",
        "stem=['drums','bass','other','vocals']\r\n",
        "resultDOA=[]\r\n",
        "lag=[]\r\n",
        "sr=44100\r\n",
        "for i in stem:\r\n",
        "  print(i)\r\n",
        "  a=read(\"/content/output/right/\"+i+\".wav\")\r\n",
        "  a=np.array(a[1],dtype=float)\r\n",
        "  b=read(\"/content/output/left/\"+i+\".wav\")\r\n",
        "  b=np.array(b[1],dtype=float)\r\n",
        "  resultDOA.append(location(a,b))\r\n",
        "  lag.append(lag_finder(a[:,1] , b[:,1], sr))\r\n",
        "\r\n",
        "print(resultDOA)\r\n",
        "print(lag)\r\n"
      ],
      "execution_count": 209,
      "outputs": [
        {
          "output_type": "stream",
          "text": [
            "drums\n",
            "bass\n",
            "other\n",
            "vocals\n",
            "[[287, 86, 199, 101, 294], [90, 270, 182, 352, 270], [270, 270, 271, 203, 270], [345, 87, 340, 265, 242]]\n",
            "[0.0003741497048679321, 0.00017006804766594996, -0.00021541952703785228, -0.00030612248579586776]\n"
          ],
          "name": "stdout"
        }
      ]
    },
    {
      "cell_type": "code",
      "metadata": {
        "id": "CKglrT_EmAih"
      },
      "source": [
        "f = open(\"experimental_Results/\"+str(r)+\".txt\", \"a\")\r\n",
        "f.writelines([\"x=\"+str(x),\"\\ny=\",str(y),\"\\nAlgo=\",str(algo),\"\\nmic=\",str(mic),\"\\nResult=\",str(resultDOA),\"\\nLag\",str(lag)])\r\n",
        "f.close()\r\n",
        "# print(x) \r\n",
        "# print(y)\r\n",
        "# algo=['MUSIC','SRP','CSSM','WAVES','TOPS']\r\n",
        "# print(mic)\r\n",
        "# print(resultDOA)\r\n",
        "# print(lag)\r\n"
      ],
      "execution_count": 210,
      "outputs": []
    },
    {
      "cell_type": "code",
      "metadata": {
        "colab": {
          "base_uri": "https://localhost:8080/",
          "height": 84
        },
        "id": "E6ryAjKf7CWH",
        "outputId": "da51ed6b-97d6-43ca-99b1-c2a65d12008d"
      },
      "source": [
        "from google.colab import files\r\n",
        "!zip -r limestone_wall.zip experimental_Results\r\n",
        "files.download(\"/content/limestone_wall.zip\")"
      ],
      "execution_count": 212,
      "outputs": [
        {
          "output_type": "stream",
          "text": [
            "  adding: experimental_Results/ (stored 0%)\n",
            "  adding: experimental_Results/7.txt (deflated 31%)\n",
            "  adding: experimental_Results/4.txt (deflated 31%)\n",
            "  adding: experimental_Results/10.txt (deflated 32%)\n"
          ],
          "name": "stdout"
        },
        {
          "output_type": "display_data",
          "data": {
            "application/javascript": [
              "\n",
              "    async function download(id, filename, size) {\n",
              "      if (!google.colab.kernel.accessAllowed) {\n",
              "        return;\n",
              "      }\n",
              "      const div = document.createElement('div');\n",
              "      const label = document.createElement('label');\n",
              "      label.textContent = `Downloading \"${filename}\": `;\n",
              "      div.appendChild(label);\n",
              "      const progress = document.createElement('progress');\n",
              "      progress.max = size;\n",
              "      div.appendChild(progress);\n",
              "      document.body.appendChild(div);\n",
              "\n",
              "      const buffers = [];\n",
              "      let downloaded = 0;\n",
              "\n",
              "      const channel = await google.colab.kernel.comms.open(id);\n",
              "      // Send a message to notify the kernel that we're ready.\n",
              "      channel.send({})\n",
              "\n",
              "      for await (const message of channel.messages) {\n",
              "        // Send a message to notify the kernel that we're ready.\n",
              "        channel.send({})\n",
              "        if (message.buffers) {\n",
              "          for (const buffer of message.buffers) {\n",
              "            buffers.push(buffer);\n",
              "            downloaded += buffer.byteLength;\n",
              "            progress.value = downloaded;\n",
              "          }\n",
              "        }\n",
              "      }\n",
              "      const blob = new Blob(buffers, {type: 'application/binary'});\n",
              "      const a = document.createElement('a');\n",
              "      a.href = window.URL.createObjectURL(blob);\n",
              "      a.download = filename;\n",
              "      div.appendChild(a);\n",
              "      a.click();\n",
              "      div.remove();\n",
              "    }\n",
              "  "
            ],
            "text/plain": [
              "<IPython.core.display.Javascript object>"
            ]
          },
          "metadata": {
            "tags": []
          }
        },
        {
          "output_type": "display_data",
          "data": {
            "application/javascript": [
              "download(\"download_9e8aa8d8-8078-453f-9245-39e99f05b49d\", \"limestone_wall.zip\", 1353)"
            ],
            "text/plain": [
              "<IPython.core.display.Javascript object>"
            ]
          },
          "metadata": {
            "tags": []
          }
        }
      ]
    }
  ]
}